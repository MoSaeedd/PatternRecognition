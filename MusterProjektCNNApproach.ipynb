{
  "nbformat": 4,
  "nbformat_minor": 0,
  "metadata": {
    "colab": {
      "name": "MusterProjektAufgabe.ipynb",
      "provenance": []
    },
    "kernelspec": {
      "display_name": "Python 3",
      "name": "python3"
    },
    "language_info": {
      "name": "python"
    },
    "accelerator": "GPU"
  },
  "cells": [
    {
      "cell_type": "code",
      "metadata": {
        "id": "VddgWMyp8dFI"
      },
      "source": [
        "\"\"\" Pattern Recognition Project \"\"\"\n",
        "\"\"\" @author Mohamed Aboeljered\"\"\"\n",
        "\n",
        "import os\n",
        "import IPython\n",
        "import math\n",
        "import numpy as np\n",
        "import pandas as pd\n",
        "import pickle\n",
        "import matplotlib.pyplot as plt\n",
        "%matplotlib inline\n",
        "import random\n",
        "from datetime import datetime\n",
        "# from include import helpers\n",
        "from keras import backend as keras_backend\n",
        "from keras.models import Sequential, load_model\n",
        "from keras.layers import Dense, Dropout, Flatten, LeakyReLU, SpatialDropout2D, Activation, Conv2D, MaxPooling2D, BatchNormalization, GlobalAveragePooling2D\n",
        "from keras.optimizers import Adam\n",
        "from tensorflow.keras.utils import to_categorical, plot_model\n",
        "from keras.utils import np_utils\n",
        "from keras.callbacks import ModelCheckpoint \n",
        "from keras.regularizers import l2\n",
        "from sklearn.preprocessing import LabelEncoder\n",
        "from sklearn.model_selection import train_test_split\n",
        "from sklearn.metrics import classification_report, precision_recall_fscore_support, confusion_matrix\n"
      ],
      "execution_count": null,
      "outputs": []
    },
    {
      "cell_type": "code",
      "metadata": {
        "id": "Zg_S38nE9-Ps"
      },
      "source": [
        "import keras.backend as K\n",
        "import tensorflow as tf"
      ],
      "execution_count": null,
      "outputs": []
    },
    {
      "cell_type": "code",
      "metadata": {
        "id": "38Yi90ec-6Jj"
      },
      "source": [
        "from sklearn.model_selection import train_test_split\n",
        "import scipy.io\n",
        "import numpy as np\n",
        "from google.colab import drive\n",
        "import pandas as pd\n",
        "\n",
        "drive.mount('/content/drive')\n",
        "\n",
        "mat = scipy.io.loadmat('/content/drive/My Drive/RAS/Mustererkennung/Project/data.mat')\n",
        "\n",
        "labels = np.array(mat['train_label'])\n",
        "train_data = np.array(mat['train_data'])\n",
        "\n",
        "# Flatten Matrix\n",
        "train_data = np.transpose(train_data.reshape(64*998,1728)) #final shape is (1728,64*998)\n",
        "\n",
        "#Normailze data\n",
        "np.interp(train_data, (train_data.min(), train_data.max()), (-1, +1))\n",
        "\n",
        "\n",
        "X_train, X_test, y_train, y_test = train_test_split(\n",
        "    train_data, \n",
        "    labels, \n",
        "    test_size=0.2, \n",
        "    random_state=69\n",
        ")\n",
        "\n",
        "print(train_data.shape)"
      ],
      "execution_count": null,
      "outputs": []
    },
    {
      "cell_type": "code",
      "metadata": {
        "id": "6HPQRcwQ0Nzr"
      },
      "source": [
        "y_test.shape"
      ],
      "execution_count": null,
      "outputs": []
    },
    {
      "cell_type": "code",
      "metadata": {
        "id": "C9aRFomK_CqC"
      },
      "source": [
        "#One Hot Encoding\n",
        "le = LabelEncoder()\n",
        "y_test_encoded = to_categorical(le.fit_transform(y_test.ravel()))\n",
        "y_train_encoded = to_categorical(le.fit_transform(y_train.ravel()))"
      ],
      "execution_count": null,
      "outputs": []
    },
    {
      "cell_type": "code",
      "metadata": {
        "id": "HP6nl_Ly_RCo"
      },
      "source": [
        "# How data should be structured ( adding channel dimension for the CNN on keras to work well)\n",
        "num_rows = 64\n",
        "num_columns = 998\n",
        "num_channels = 1\n",
        "\n",
        "# Reshape to fit the network input (channel last)\n",
        "X_train = X_train.reshape(X_train.shape[0], num_rows, num_columns, num_channels)\n",
        "X_test = X_test.reshape(X_test.shape[0], num_rows, num_columns, num_channels)\n",
        "\n",
        "# Total number of labels to predict (equal to the network output nodes)\n",
        "num_labels = y_train_encoded.shape[1]"
      ],
      "execution_count": null,
      "outputs": []
    },
    {
      "cell_type": "code",
      "metadata": {
        "id": "69e-Mfdc6_ZP"
      },
      "source": [
        "def create_model(spatial_dropout_rate_1=0, spatial_dropout_rate_2=0, l2_rate=0):\n",
        "\n",
        "    # Create a secquential object\n",
        "    model = Sequential()\n",
        "\n",
        "\n",
        "    # Conv 1\n",
        "    model.add(Conv2D(filters=32, \n",
        "                     kernel_size=(3, 3), \n",
        "                     kernel_regularizer=l2(l2_rate), \n",
        "                     input_shape=(num_rows, num_columns, num_channels)))\n",
        "    model.add(LeakyReLU(alpha=0.1))\n",
        "    model.add(BatchNormalization())\n",
        "\n",
        "    model.add(SpatialDropout2D(spatial_dropout_rate_1))\n",
        "    model.add(Conv2D(filters=32, \n",
        "                     kernel_size=(3, 3), \n",
        "                     kernel_regularizer=l2(l2_rate)))\n",
        "    model.add(LeakyReLU(alpha=0.1))\n",
        "    model.add(BatchNormalization())\n",
        "\n",
        "\n",
        "    # Max Pooling #1\n",
        "    model.add(MaxPooling2D(pool_size=(2, 2)))\n",
        "\n",
        "    model.add(SpatialDropout2D(spatial_dropout_rate_1))\n",
        "    model.add(Conv2D(filters=64, \n",
        "                     kernel_size=(3, 3), \n",
        "                     kernel_regularizer=l2(l2_rate)))\n",
        "    model.add(LeakyReLU(alpha=0.1))\n",
        "    model.add(BatchNormalization())\n",
        "\n",
        "    model.add(SpatialDropout2D(spatial_dropout_rate_2))\n",
        "    model.add(Conv2D(filters=64, \n",
        "                     kernel_size=(3,3), \n",
        "                     kernel_regularizer=l2(l2_rate)))\n",
        "    model.add(LeakyReLU(alpha=0.1))\n",
        "    model.add(BatchNormalization())\n",
        "    \n",
        "   \n",
        "    # Reduces each h×w feature map to a single number by taking the average of all h,w values.\n",
        "    model.add(GlobalAveragePooling2D())\n",
        "\n",
        "\n",
        "    # Softmax output\n",
        "    model.add(Dense(num_labels, activation='softmax'))\n",
        "    \n",
        "    return model\n",
        "\n",
        "# Regularization rates\n",
        "spatial_dropout_rate_1 = 0.07\n",
        "spatial_dropout_rate_2 = 0.14\n",
        "l2_rate = 0.0005\n",
        "\n",
        "model = create_model(spatial_dropout_rate_1, spatial_dropout_rate_2, l2_rate)"
      ],
      "execution_count": null,
      "outputs": []
    },
    {
      "cell_type": "code",
      "metadata": {
        "id": "fmnqTvHj_Z9U"
      },
      "source": [
        "adam = Adam(lr=1e-4, beta_1=0.99, beta_2=0.999)\n",
        "model.compile(\n",
        "    loss='categorical_crossentropy', \n",
        "    metrics=['accuracy'], \n",
        "    optimizer=adam)\n",
        "\n",
        "# Display model architecture summary \n",
        "model.summary()"
      ],
      "execution_count": null,
      "outputs": []
    },
    {
      "cell_type": "code",
      "metadata": {
        "id": "WIFsV4zACnOO"
      },
      "source": [
        "num_epochs = 1000\n",
        "num_batch_size = 128\n",
        "model_file = 'NoDrop_85test.hdf5'\n",
        "!mkdir models\n",
        "models_path = './models'\n",
        "model_path = os.path.join(models_path, model_file)\n",
        "\n",
        "\n",
        "# Save checkpoints\n",
        "checkpointer = ModelCheckpoint(filepath=model_path, \n",
        "                               verbose=1, \n",
        "                               save_best_only=True)\n",
        "start = datetime.now()\n",
        "\n",
        "# session = K.backend.get_session()\n",
        "# init = tf.initialize_all_variables()\n",
        "# sess.run(init)\n",
        "history = model.fit(X_train, \n",
        "                    y_train_encoded, \n",
        "                    batch_size=num_batch_size, \n",
        "                    epochs=num_epochs, \n",
        "                    validation_split=1/12.,\n",
        "                    callbacks=[checkpointer], \n",
        "                    verbose=1)\n",
        "\n",
        "\n",
        "\n",
        "duration = datetime.now() - start\n",
        "print(\"Training completed in time: \", duration)\n"
      ],
      "execution_count": null,
      "outputs": []
    },
    {
      "cell_type": "code",
      "metadata": {
        "colab": {
          "base_uri": "https://localhost:8080/",
          "height": 17
        },
        "id": "1IJtlk_obcUD",
        "outputId": "2010a1b1-3f42-48d9-d669-fa9330154589"
      },
      "source": [
        "from google.colab import files\n",
        "files.download(model_path) "
      ],
      "execution_count": null,
      "outputs": [
        {
          "output_type": "display_data",
          "data": {
            "application/javascript": [
              "\n",
              "    async function download(id, filename, size) {\n",
              "      if (!google.colab.kernel.accessAllowed) {\n",
              "        return;\n",
              "      }\n",
              "      const div = document.createElement('div');\n",
              "      const label = document.createElement('label');\n",
              "      label.textContent = `Downloading \"${filename}\": `;\n",
              "      div.appendChild(label);\n",
              "      const progress = document.createElement('progress');\n",
              "      progress.max = size;\n",
              "      div.appendChild(progress);\n",
              "      document.body.appendChild(div);\n",
              "\n",
              "      const buffers = [];\n",
              "      let downloaded = 0;\n",
              "\n",
              "      const channel = await google.colab.kernel.comms.open(id);\n",
              "      // Send a message to notify the kernel that we're ready.\n",
              "      channel.send({})\n",
              "\n",
              "      for await (const message of channel.messages) {\n",
              "        // Send a message to notify the kernel that we're ready.\n",
              "        channel.send({})\n",
              "        if (message.buffers) {\n",
              "          for (const buffer of message.buffers) {\n",
              "            buffers.push(buffer);\n",
              "            downloaded += buffer.byteLength;\n",
              "            progress.value = downloaded;\n",
              "          }\n",
              "        }\n",
              "      }\n",
              "      const blob = new Blob(buffers, {type: 'application/binary'});\n",
              "      const a = document.createElement('a');\n",
              "      a.href = window.URL.createObjectURL(blob);\n",
              "      a.download = filename;\n",
              "      div.appendChild(a);\n",
              "      a.click();\n",
              "      div.remove();\n",
              "    }\n",
              "  "
            ],
            "text/plain": [
              "<IPython.core.display.Javascript object>"
            ]
          },
          "metadata": {
            "tags": []
          }
        },
        {
          "output_type": "display_data",
          "data": {
            "application/javascript": [
              "download(\"download_ee2b82c8-cbca-4511-bc5d-b458be18d4d0\", \"simple-train-nb3.hdf5\", 884232)"
            ],
            "text/plain": [
              "<IPython.core.display.Javascript object>"
            ]
          },
          "metadata": {
            "tags": []
          }
        }
      ]
    },
    {
      "cell_type": "code",
      "metadata": {
        "id": "lCgmSHq4xqnl"
      },
      "source": [
        "### Retraining with test data set\n",
        "\n",
        "\n",
        "model = load_model('NoDrop_85test.hdf5')\n",
        "\n",
        "# Save checkpoints\n",
        "checkpointer = ModelCheckpoint(filepath='ModelFullDataSet.hdf5', \n",
        "                               verbose=1, \n",
        "                               save_best_only=True)\n",
        "start = datetime.now()\n",
        "\n",
        "history = model.fit(X_test, \n",
        "                    y_test_encoded, \n",
        "                    batch_size=64, \n",
        "                    epochs=1000, \n",
        "                    validation_split=1/12.,\n",
        "                    callbacks=[checkpointer], \n",
        "                    verbose=1)\n",
        "\n",
        "\n",
        "\n",
        "duration = datetime.now() - start\n",
        "print(\"Training completed in time: \", duration)\n"
      ],
      "execution_count": null,
      "outputs": []
    },
    {
      "cell_type": "code",
      "metadata": {
        "id": "gpEeXe8v7nwD"
      },
      "source": [
        "from google.colab import files\n",
        "files.download('ModelFullDataSet.hdf5') "
      ],
      "execution_count": null,
      "outputs": []
    },
    {
      "cell_type": "code",
      "metadata": {
        "id": "ehNpC6FHC2P1"
      },
      "source": [
        "################################### Classifier Performance Check ##############################\n",
        "from sklearn.metrics import ConfusionMatrixDisplay\n",
        "#Check Accuracy on train data\n",
        "model = load_model('ModelFullDataSet.hdf5')\n",
        "\n",
        "y_trainp = model.predict(X_train)\n",
        "print(y_trainp.shape)\n",
        "acc = (np.argmax(y_trainp,axis=1) == np.argmax(y_train_encoded,axis=1))\n",
        "print('train accuracy = ' ,np.sum(acc)/len(y_train))\n",
        "\n",
        "disp = ConfusionMatrixDisplay(confusion_matrix(np.argmax(y_train_encoded,axis=1), (np.argmax(y_trainp,axis=1))), display_labels = ['Airport','Bus','Metro','Public Square'])\n",
        "disp.plot()\n",
        "disp.figure_.savefig('Train Data Confusion Matrix')\n",
        "\n",
        "#Check Accuracy on test data\n",
        "y_testp = model.predict(X_test)\n",
        "print(y_testp.shape)\n",
        "acc = (np.argmax(y_testp,axis=1) == np.argmax(y_test_encoded,axis=1))\n",
        "print('test accuracy = ' ,np.sum(acc)/len(y_test))\n",
        "\n",
        "# y_trainp = model.predict(X_train)\n",
        "# from sklearn.metrics import confusion_matrix\n",
        "# confusion_matrix(np.argmax(y_train_encoded,axis=1), (np.argmax(y_trainp,axis=1))\n",
        "\n",
        "disp = ConfusionMatrixDisplay(confusion_matrix(np.argmax(y_test_encoded,axis=1), (np.argmax(y_testp,axis=1))), display_labels = ['Airport','Bus','Metro','Public Square'])\n",
        "disp.plot()\n",
        "disp.figure_.savefig('Test Data Confusion Matrix')"
      ],
      "execution_count": null,
      "outputs": []
    },
    {
      "cell_type": "code",
      "metadata": {
        "id": "6wzCbVK4gMzo"
      },
      "source": [
        "###################################################################################\n",
        "############################ Load  Unknown  Data ##################################\n",
        "###################################################################################\n",
        "unlabelledDataMat = scipy.io.loadmat('/content/drive/My Drive/RAS/Mustererkennung/Project/testdata.mat')\n"
      ],
      "execution_count": null,
      "outputs": []
    },
    {
      "cell_type": "code",
      "metadata": {
        "id": "4DtbZvMQhyyK"
      },
      "source": [
        "###################################################################################\n",
        "############################ Inference ############################################\n",
        "###################################################################################\n",
        "\"\"\"Apply the model on the unknown test data and save the labels in text file\"\"\"\n",
        "\n",
        "unlabelledDataRaw = np.array(unlabelledDataMat['test_data'])\n",
        "\n",
        "#Sanity check\n",
        "print(unlabelledDataRaw.shape)\n",
        "\n",
        "#Reshape Data \n",
        "unlabelledDataFlat = np.transpose(unlabelledDataRaw.reshape(64*998,1728)) # New shape = (1728,64*998)\n",
        "unlabelledData = unlabelledDataFlat.reshape(unlabelledDataFlat.shape[0], num_rows, num_columns, num_channels)  # New shape = (1728,64,998,1)\n",
        "\n",
        "#Load Saved Model\n",
        "model = load_model('ModelFullDataSet.hdf5')\n",
        "\n",
        "\n",
        "y_infer = model.predict(unlabelledData)\n",
        "y_infer = np.argmax(y_infer,axis=1) +1  # add one to the argmax because one hot encoding starts at index 0 (data labels starts at 1)\n",
        "np.savetxt('label.txt', y_infer.reshape(1,y_infer.shape[0]),fmt='%d', delimiter=';',newline='')"
      ],
      "execution_count": null,
      "outputs": []
    }
  ]
}